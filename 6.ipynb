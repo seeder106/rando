{
 "cells": [
  {
   "cell_type": "code",
   "execution_count": 31,
   "id": "c1e1f867",
   "metadata": {},
   "outputs": [],
   "source": [
    "import matplotlib.pyplot as plt\n",
    "import numpy as np\n",
    "from skimage.io import imread, imshow\n",
    "from skimage.exposure import cumulative_distribution\n",
    "import scipy as sc\n",
    "from scipy.fft import fft2, ifft2, fftshift, ifftshift\n",
    "import scipy.signal as sig\n",
    "import math\n",
    "from skimage.morphology import binary_erosion, binary_dilation"
   ]
  },
  {
   "cell_type": "code",
   "execution_count": 16,
   "id": "53fa4696",
   "metadata": {},
   "outputs": [],
   "source": [
    "a = imread('lab6_images/lincoln.png')"
   ]
  },
  {
   "cell_type": "code",
   "execution_count": 3,
   "id": "84dbb7ae",
   "metadata": {},
   "outputs": [],
   "source": [
    "def binarize_this(image_file, thresh_val=127):\n",
    "    image_src = image_file\n",
    "    image_b = convert_binary(image_src=image_src, thresh_val=thresh_val)\n",
    "    return image_b\n",
    "\n",
    "def convert_binary(image_src, thresh_val):\n",
    "    color_1 = 255\n",
    "    color_2 = 0\n",
    "    initial_conv = np.where((image_src <= thresh_val), image_src, color_1)\n",
    "    final_conv = np.where((initial_conv > thresh_val), initial_conv, color_2)\n",
    "    return final_conv\n",
    "\n",
    "def erode_this(image_file, erosion_level=1, with_plot=False):\n",
    "    erosion_level = 3 if erosion_level < 3 else erosion_level\n",
    "\n",
    "    structuring_kernel = np.full(shape=(erosion_level, erosion_level), fill_value=255)\n",
    "    image_src = binarize_this(image_file=image_file)\n",
    "\n",
    "    orig_shape = image_src.shape\n",
    "    pad_width = erosion_level - 2\n",
    "\n",
    "    # pad the matrix with `pad_width`\n",
    "    image_pad = np.pad(array=image_src, pad_width=pad_width, mode='constant')\n",
    "    pimg_shape = image_pad.shape\n",
    "    h_reduce, w_reduce = (pimg_shape[0] - orig_shape[0]), (pimg_shape[1] - orig_shape[1])\n",
    "\n",
    "    # sub matrices of kernel size\n",
    "    flat_submatrices = np.array([\n",
    "        image_pad[i:(i + erosion_level), j:(j + erosion_level)]\n",
    "        for i in range(pimg_shape[0] - h_reduce) for j in range(pimg_shape[1] - w_reduce)\n",
    "    ])\n",
    "\n",
    "    # condition to replace the values - if the kernel equal to submatrix then 255 else 0\n",
    "    image_erode = np.array([255 if (i == structuring_kernel).all() else 0 for i in flat_submatrices])\n",
    "    image_erode = image_erode.reshape(orig_shape)\n",
    "\n",
    "    if with_plot:\n",
    "        cmap_val = 'gray'\n",
    "        fig, (ax1, ax2) = plt.subplots(nrows=1, ncols=2, figsize=(10, 20))\n",
    "\n",
    "        ax1.axis(\"off\")\n",
    "        ax1.title.set_text('Original')\n",
    "\n",
    "        ax2.axis(\"off\")\n",
    "        ax2.title.set_text(\"Eroded - {}\".format(erosion_level))\n",
    "\n",
    "        ax1.imshow(image_src, cmap=cmap_val)\n",
    "        ax2.imshow(image_erode, cmap=cmap_val)\n",
    "        plt.show()\n",
    "        return True\n",
    "    return image_erode"
   ]
  },
  {
   "cell_type": "code",
   "execution_count": 32,
   "id": "8a0f8325",
   "metadata": {},
   "outputs": [
    {
     "name": "stdout",
     "output_type": "stream",
     "text": [
      "[[0 0 0 ... 0 0 0]\n",
      " [0 0 0 ... 0 0 0]\n",
      " [0 0 0 ... 0 0 0]\n",
      " ...\n",
      " [0 0 0 ... 0 0 0]\n",
      " [0 0 0 ... 0 0 0]\n",
      " [0 0 0 ... 0 0 0]]\n"
     ]
    },
    {
     "data": {
      "image/png": "[encoded data removed]",
      "text/plain": [
       "<Figure size 432x288 with 2 Axes>"
      ]
     },
     "metadata": {
      "needs_background": "light"
     },
     "output_type": "display_data"
    }
   ],
   "source": [
    "cross = np.array([[1,1,1],\n",
    "                  [1,1,1],\n",
    "                  [1,1,1]])\n",
    "v = binary_dilation(a,cross).astype(np.uint8)\n",
    "imshow(v,cmap='gray')\n",
    "print(v)"
   ]
  },
  {
   "cell_type": "code",
   "execution_count": null,
   "id": "da2bdd62",
   "metadata": {},
   "outputs": [],
   "source": []
  },
  {
   "cell_type": "code",
   "execution_count": null,
   "id": "0d90d8b4",
   "metadata": {},
   "outputs": [],
   "source": []
  },
  {
   "cell_type": "code",
   "execution_count": null,
   "id": "3049ad05",
   "metadata": {},
   "outputs": [],
   "source": []
  },
  {
   "cell_type": "code",
   "execution_count": null,
   "id": "ce9ae7c1",
   "metadata": {},
   "outputs": [],
   "source": []
  }
 ],
 "metadata": {
  "kernelspec": {
   "display_name": "Python 3 (ipykernel)",
   "language": "python",
   "name": "python3"
  },
  "language_info": {
   "codemirror_mode": {
    "name": "ipython",
    "version": 3
   },
   "file_extension": ".py",
   "mimetype": "text/x-python",
   "name": "python",
   "nbconvert_exporter": "python",
   "pygments_lexer": "ipython3",
   "version": "3.9.7"
  }
 },
 "nbformat": 4,
 "nbformat_minor": 5
}
